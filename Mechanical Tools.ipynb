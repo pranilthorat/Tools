{
 "cells": [
  {
   "cell_type": "code",
   "execution_count": 2,
   "metadata": {},
   "outputs": [],
   "source": [
    "import tensorflow as tf"
   ]
  },
  {
   "cell_type": "code",
   "execution_count": 2,
   "metadata": {},
   "outputs": [],
   "source": [
    "from glob import glob"
   ]
  },
  {
   "cell_type": "code",
   "execution_count": 3,
   "metadata": {},
   "outputs": [],
   "source": [
    "train_path = 'train_data/train_data/'\n",
    "valid_path = 'validation_data_V2/validation_data_V2/'"
   ]
  },
  {
   "cell_type": "code",
   "execution_count": 4,
   "metadata": {},
   "outputs": [],
   "source": [
    "image_files = glob(train_path + '/*/*.jp*g')\n",
    "valid_image_files = glob(valid_path + '/*/*.jp*g')"
   ]
  },
  {
   "cell_type": "code",
   "execution_count": 5,
   "metadata": {},
   "outputs": [],
   "source": [
    "folders = glob(train_path+'/*')"
   ]
  },
  {
   "cell_type": "code",
   "execution_count": 6,
   "metadata": {},
   "outputs": [
    {
     "name": "stdout",
     "output_type": "stream",
     "text": [
      "Found 5361 images belonging to 7 classes.\n",
      "Found 2660 images belonging to 7 classes.\n"
     ]
    }
   ],
   "source": [
    "gen = tf.keras.preprocessing.image.ImageDataGenerator(rotation_range=20,\n",
    "                                                      shear_range=0.1,\n",
    "                                                      zoom_range=0.2,\n",
    "                                                      horizontal_flip=True,\n",
    "                                                      vertical_flip=True,\n",
    "                                                      preprocessing_function=tf.keras.applications.vgg16.preprocess_input)\n",
    "\n",
    "train_generator = gen.flow_from_directory(train_path,\n",
    "                                          target_size=[100,100],\n",
    "                                          shuffle=True,\n",
    "                                          batch_size=32)\n",
    "\n",
    "valid_generator = gen.flow_from_directory(valid_path,\n",
    "                                          target_size=[100,100],\n",
    "                                          shuffle=True,\n",
    "                                          batch_size=32)\n"
   ]
  },
  {
   "cell_type": "code",
   "execution_count": 7,
   "metadata": {},
   "outputs": [],
   "source": [
    "vgg = tf.keras.applications.vgg16.VGG16(input_shape=[100,100,3],\n",
    "                                        weights=\"imagenet\",\n",
    "                                        include_top=False)\n",
    "\n",
    "\n",
    "#To use the existing weights and disable training on VGG object.\n",
    "# Ensure all weights are immutable\n",
    "\n",
    "for layer in vgg.layers:\n",
    "  layer.trainable = False"
   ]
  },
  {
   "cell_type": "code",
   "execution_count": 8,
   "metadata": {},
   "outputs": [],
   "source": [
    "#Flatten\n",
    "flatten = tf.keras.layers.Flatten()\n",
    "#FC layer\n",
    "finalLayer = tf.keras.layers.Dense(7,activation=\"softmax\")"
   ]
  },
  {
   "cell_type": "code",
   "execution_count": 9,
   "metadata": {},
   "outputs": [],
   "source": [
    "model = tf.keras.models.Sequential([\n",
    "                                    vgg,\n",
    "                                    flatten,\n",
    "                                    finalLayer\n",
    "])"
   ]
  },
  {
   "cell_type": "code",
   "execution_count": 10,
   "metadata": {},
   "outputs": [
    {
     "name": "stdout",
     "output_type": "stream",
     "text": [
      "Model: \"sequential\"\n",
      "_________________________________________________________________\n",
      "Layer (type)                 Output Shape              Param #   \n",
      "=================================================================\n",
      "vgg16 (Functional)           (None, 3, 3, 512)         14714688  \n",
      "_________________________________________________________________\n",
      "flatten (Flatten)            (None, 4608)              0         \n",
      "_________________________________________________________________\n",
      "dense (Dense)                (None, 7)                 32263     \n",
      "=================================================================\n",
      "Total params: 14,746,951\n",
      "Trainable params: 32,263\n",
      "Non-trainable params: 14,714,688\n",
      "_________________________________________________________________\n"
     ]
    }
   ],
   "source": [
    "model.summary()"
   ]
  },
  {
   "cell_type": "code",
   "execution_count": 11,
   "metadata": {},
   "outputs": [],
   "source": [
    "model.compile(loss='categorical_crossentropy',\n",
    "              optimizer='adam', #tf.keras.optimizers.Adam(learning_rate=0.0001)\n",
    "              metrics=['accuracy'])"
   ]
  },
  {
   "cell_type": "code",
   "execution_count": 12,
   "metadata": {},
   "outputs": [
    {
     "name": "stdout",
     "output_type": "stream",
     "text": [
      "Epoch 1/5\n",
      "167/167 [==============================] - 904s 5s/step - loss: 9.0575 - accuracy: 0.5004 - val_loss: 33.2878 - val_accuracy: 0.2056\n",
      "Epoch 2/5\n",
      "167/167 [==============================] - 889s 5s/step - loss: 4.8649 - accuracy: 0.6778 - val_loss: 38.9984 - val_accuracy: 0.1886\n",
      "Epoch 3/5\n",
      "167/167 [==============================] - 833s 5s/step - loss: 4.9653 - accuracy: 0.6734 - val_loss: 41.8299 - val_accuracy: 0.1973\n",
      "Epoch 4/5\n",
      "167/167 [==============================] - 839s 5s/step - loss: 4.7161 - accuracy: 0.6910 - val_loss: 43.6139 - val_accuracy: 0.2203\n",
      "Epoch 5/5\n",
      "167/167 [==============================] - 908s 5s/step - loss: 4.4438 - accuracy: 0.7083 - val_loss: 47.8130 - val_accuracy: 0.2078\n"
     ]
    }
   ],
   "source": [
    "#Fit/Training\n",
    "batch_size=32\n",
    "history = model.fit(train_generator,\n",
    "                    validation_data=valid_generator,\n",
    "                    epochs=5,\n",
    "                    steps_per_epoch=len(train_generator.filenames) // batch_size,\n",
    "                    validation_steps=len(valid_generator.filenames) // batch_size,\n",
    "                    use_multiprocessing=False)"
   ]
  },
  {
   "cell_type": "code",
   "execution_count": null,
   "metadata": {},
   "outputs": [],
   "source": []
  },
  {
   "cell_type": "code",
   "execution_count": 13,
   "metadata": {},
   "outputs": [
    {
     "name": "stdout",
     "output_type": "stream",
     "text": [
      "Found 5361 images belonging to 7 classes.\n",
      "Found 2660 images belonging to 7 classes.\n"
     ]
    }
   ],
   "source": [
    "#Step1: Use Image Generator\n",
    "\n",
    "gen = tf.keras.preprocessing.image.ImageDataGenerator(rotation_range=20,\n",
    "                                                      shear_range=0.1,\n",
    "                                                      zoom_range=0.2,\n",
    "                                                      horizontal_flip=True,\n",
    "                                                      vertical_flip=True,\n",
    "                                                      preprocessing_function=tf.keras.applications.inception_v3.preprocess_input)\n",
    "\n",
    "train_generator = gen.flow_from_directory(train_path,\n",
    "                                          target_size=[100,100],\n",
    "                                          shuffle=True,\n",
    "                                          batch_size=32)\n",
    "\n",
    "valid_generator = gen.flow_from_directory(valid_path,\n",
    "                                          target_size=[100,100],\n",
    "                                          shuffle=True,\n",
    "                                          batch_size=32)"
   ]
  },
  {
   "cell_type": "code",
   "execution_count": 14,
   "metadata": {},
   "outputs": [
    {
     "name": "stdout",
     "output_type": "stream",
     "text": [
      "Downloading data from https://storage.googleapis.com/tensorflow/keras-applications/inception_v3/inception_v3_weights_tf_dim_ordering_tf_kernels_notop.h5\n",
      "87916544/87910968 [==============================] - 23s 0us/step\n"
     ]
    }
   ],
   "source": [
    "inception = tf.keras.applications.inception_v3.InceptionV3(input_shape=[100,100,3],\n",
    "                                        weights=\"imagenet\",\n",
    "                                        include_top=False)\n"
   ]
  },
  {
   "cell_type": "code",
   "execution_count": 15,
   "metadata": {},
   "outputs": [],
   "source": [
    "\n",
    "for layer in inception.layers:\n",
    "  layer.trainable = False\n",
    "\n",
    "#Create our FC layer as per our spec\n",
    "#Flatten\n",
    "flatten = tf.keras.layers.Flatten()\n",
    "#FC layer\n",
    "finalLayer = tf.keras.layers.Dense(7,activation=\"softmax\")\n",
    "\n",
    "#Append Inception and FC and create a final model\n",
    "model1 = tf.keras.models.Sequential([\n",
    "                                    inception,\n",
    "                                    flatten,\n",
    "                                    finalLayer\n",
    "])"
   ]
  },
  {
   "cell_type": "code",
   "execution_count": 16,
   "metadata": {},
   "outputs": [
    {
     "name": "stdout",
     "output_type": "stream",
     "text": [
      "Model: \"sequential_1\"\n",
      "_________________________________________________________________\n",
      "Layer (type)                 Output Shape              Param #   \n",
      "=================================================================\n",
      "inception_v3 (Functional)    (None, 1, 1, 2048)        21802784  \n",
      "_________________________________________________________________\n",
      "flatten_1 (Flatten)          (None, 2048)              0         \n",
      "_________________________________________________________________\n",
      "dense_1 (Dense)              (None, 7)                 14343     \n",
      "=================================================================\n",
      "Total params: 21,817,127\n",
      "Trainable params: 14,343\n",
      "Non-trainable params: 21,802,784\n",
      "_________________________________________________________________\n"
     ]
    }
   ],
   "source": [
    "model1.summary()"
   ]
  },
  {
   "cell_type": "code",
   "execution_count": 17,
   "metadata": {},
   "outputs": [
    {
     "name": "stdout",
     "output_type": "stream",
     "text": [
      "Epoch 1/5\n",
      "167/167 [==============================] - 246s 1s/step - loss: 1.8021 - accuracy: 0.3950 - val_loss: 3.6867 - val_accuracy: 0.2071\n",
      "Epoch 2/5\n",
      "167/167 [==============================] - 211s 1s/step - loss: 1.1286 - accuracy: 0.5896 - val_loss: 3.9934 - val_accuracy: 0.1924\n",
      "Epoch 3/5\n",
      "167/167 [==============================] - 216s 1s/step - loss: 1.0784 - accuracy: 0.5967 - val_loss: 4.0378 - val_accuracy: 0.1860\n",
      "Epoch 4/5\n",
      "167/167 [==============================] - 217s 1s/step - loss: 1.0526 - accuracy: 0.6184 - val_loss: 4.2706 - val_accuracy: 0.2150\n",
      "Epoch 5/5\n",
      "167/167 [==============================] - 217s 1s/step - loss: 1.0064 - accuracy: 0.6258 - val_loss: 4.3117 - val_accuracy: 0.2116\n"
     ]
    }
   ],
   "source": [
    "#Compile Model\n",
    "model1.compile(loss='categorical_crossentropy',\n",
    "              optimizer='adam',\n",
    "              metrics=['accuracy'])\n",
    "#Fit/Training\n",
    "batch_size=32\n",
    "history = model1.fit(train_generator,\n",
    "                    validation_data=valid_generator,\n",
    "                    epochs=5,\n",
    "                    steps_per_epoch=len(train_generator.filenames) // batch_size,\n",
    "                    validation_steps=len(valid_generator.filenames) // batch_size,\n",
    "                    use_multiprocessing=False)"
   ]
  },
  {
   "cell_type": "code",
   "execution_count": null,
   "metadata": {},
   "outputs": [],
   "source": []
  },
  {
   "cell_type": "code",
   "execution_count": 18,
   "metadata": {},
   "outputs": [
    {
     "name": "stdout",
     "output_type": "stream",
     "text": [
      "Found 5361 images belonging to 7 classes.\n",
      "Found 2660 images belonging to 7 classes.\n"
     ]
    }
   ],
   "source": [
    "#Resnet50\n",
    "#Step1: Use Image Generator\n",
    "\n",
    "gen = tf.keras.preprocessing.image.ImageDataGenerator(rotation_range=20,\n",
    "                                                      shear_range=0.1,\n",
    "                                                      zoom_range=0.2,\n",
    "                                                      horizontal_flip=True,\n",
    "                                                      vertical_flip=True,\n",
    "                                                      preprocessing_function=tf.keras.applications.resnet50.preprocess_input)\n",
    "\n",
    "train_generator = gen.flow_from_directory(train_path,\n",
    "                                          target_size=[100,100],\n",
    "                                          shuffle=True,\n",
    "                                          batch_size=32)\n",
    "\n",
    "valid_generator = gen.flow_from_directory(valid_path,\n",
    "                                          target_size=[100,100],\n",
    "                                          shuffle=True,\n",
    "                                          batch_size=32)"
   ]
  },
  {
   "cell_type": "code",
   "execution_count": 19,
   "metadata": {},
   "outputs": [
    {
     "name": "stdout",
     "output_type": "stream",
     "text": [
      "Downloading data from https://storage.googleapis.com/tensorflow/keras-applications/resnet/resnet50_weights_tf_dim_ordering_tf_kernels_notop.h5\n",
      "94773248/94765736 [==============================] - 17s 0us/step\n",
      "Epoch 1/5\n",
      "167/167 [==============================] - 436s 3s/step - loss: 4.7114 - accuracy: 0.5528 - val_loss: 27.0364 - val_accuracy: 0.1965\n",
      "Epoch 2/5\n",
      "167/167 [==============================] - 419s 3s/step - loss: 3.5495 - accuracy: 0.6675 - val_loss: 31.2088 - val_accuracy: 0.2142\n",
      "Epoch 3/5\n",
      "167/167 [==============================] - 438s 3s/step - loss: 3.3289 - accuracy: 0.7151 - val_loss: 34.1929 - val_accuracy: 0.2101\n",
      "Epoch 4/5\n",
      "167/167 [==============================] - 451s 3s/step - loss: 3.2489 - accuracy: 0.7387 - val_loss: 37.0206 - val_accuracy: 0.2131\n",
      "Epoch 5/5\n",
      "167/167 [==============================] - 401s 2s/step - loss: 3.0457 - accuracy: 0.7476 - val_loss: 43.5633 - val_accuracy: 0.2300\n"
     ]
    }
   ],
   "source": [
    "resnet = tf.keras.applications.resnet50.ResNet50(input_shape=[100,100,3],\n",
    "                                        weights=\"imagenet\",\n",
    "                                        include_top=False)\n",
    "\n",
    "for layer in resnet.layers:\n",
    "  layer.trainable = False\n",
    "\n",
    "#Create our FC layer as per our spec\n",
    "#Flatten\n",
    "flatten = tf.keras.layers.Flatten()\n",
    "#FC layer\n",
    "finalLayer = tf.keras.layers.Dense(7,activation=\"softmax\")\n",
    "\n",
    "#Append Inception and FC and create a final model\n",
    "model = tf.keras.models.Sequential([\n",
    "                                    resnet,\n",
    "                                    flatten,\n",
    "                                    finalLayer\n",
    "])\n",
    "#Compile Model\n",
    "model.compile(loss='categorical_crossentropy',\n",
    "              optimizer='adam',\n",
    "              metrics=['accuracy'])\n",
    "#Fit/Training\n",
    "batch_size=32\n",
    "history = model.fit(train_generator,\n",
    "                    validation_data=valid_generator,\n",
    "                    epochs=5,\n",
    "                    steps_per_epoch=len(train_generator.filenames) // batch_size,\n",
    "                    validation_steps=len(valid_generator.filenames) // batch_size,\n",
    "                    use_multiprocessing=False)"
   ]
  },
  {
   "cell_type": "code",
   "execution_count": null,
   "metadata": {},
   "outputs": [],
   "source": []
  },
  {
   "cell_type": "code",
   "execution_count": null,
   "metadata": {},
   "outputs": [],
   "source": []
  },
  {
   "cell_type": "code",
   "execution_count": null,
   "metadata": {},
   "outputs": [],
   "source": []
  },
  {
   "cell_type": "code",
   "execution_count": 35,
   "metadata": {},
   "outputs": [],
   "source": [
    "#Use Image Generators\n",
    "#1. Initialize\n",
    "#For Training Data\n",
    "train_generator = tf.keras.preprocessing.image.ImageDataGenerator(rescale= 1.0/255.)\n",
    "\n",
    "#For Validation Data\n",
    "validation_generator = tf.keras.preprocessing.image.ImageDataGenerator(rescale= 1.0/255.)"
   ]
  },
  {
   "cell_type": "code",
   "execution_count": 36,
   "metadata": {},
   "outputs": [
    {
     "name": "stdout",
     "output_type": "stream",
     "text": [
      "Found 5361 images belonging to 7 classes.\n",
      "Found 2660 images belonging to 7 classes.\n"
     ]
    }
   ],
   "source": [
    "#Pass set of images to the generator to generate compatible images for CNN\n",
    "trainImageData = train_generator.flow_from_directory('train_data/train_data/',\n",
    "                                                     batch_size=32,\n",
    "                                                     class_mode='binary',\n",
    "                                                     target_size=(64,64))\n",
    "\n",
    "validationImageData = train_generator.flow_from_directory('validation_data_V2/validation_data_V2/',\n",
    "                                                          batch_size=32,\n",
    "                                                     class_mode='binary',\n",
    "                                                     target_size=(64,64))\n"
   ]
  },
  {
   "cell_type": "code",
   "execution_count": 37,
   "metadata": {},
   "outputs": [],
   "source": [
    "#Architect your CNN Model\n",
    "\n",
    "model_cnn = tf.keras.models.Sequential()\n",
    "\n",
    "#Step1: Create  First Convolution Layer\n",
    "# Conv1D --- Sound/Mp3/Text\n",
    "# Conv2D --- Image/Image Set\n",
    "# Conv3D --- Movies/Mp4\n",
    "\n",
    "#Create Convolve Layer\n",
    "# Conv2D(No_Of_filters,Size_of_Filter, input_shape)\n",
    "# Suggestions/Best Practices by Prashant Nair\n",
    "# 1. Filters ----> Choose Boolean Algebra Compatible Values like 1,2,4,8,16,32,64,128,256,512\n",
    "# 2. Size_of_Filter ---> If Data Size below 10GB --> (3,3) If betn 10GB - 100G --> (4,4) , Above 100G --> (5,5)\n",
    "# 3. Input Shape ---> Suggested go 64,64 ; 128,128 ; 256,256 ; 512,512\n",
    "\n",
    "model_cnn.add(tf.keras.layers.Conv2D(32, (3,3) , input_shape=(64,64,3) ,activation='relu', padding='same', strides=(1,1)))\n",
    "model_cnn.add(tf.keras.layers.MaxPooling2D(pool_size=(2,2)))\n",
    "#model.add(tf.keras.layers.AveragePooling2D(pool_size=(2,2)))\n",
    "\n",
    "#Step2: Create  Second Convolution Layer\n",
    "model_cnn.add(tf.keras.layers.Conv2D(16, (3,3) , input_shape=(64,64,3) ,activation='relu', padding='same', strides=(1,1)))\n",
    "model_cnn.add(tf.keras.layers.MaxPooling2D(pool_size=(2,2)))\n",
    "\n",
    "#Step3: Flatten\n",
    "model_cnn.add(tf.keras.layers.Flatten())\n",
    "\n",
    "#Step4: FC Layer/ANN\n",
    "model_cnn.add(tf.keras.layers.Dense(units=512, activation='relu'))\n",
    "model_cnn.add(tf.keras.layers.Dense(units=256, activation='relu'))\n",
    "\n",
    "model_cnn.add(tf.keras.layers.Dense(units=7, activation='softmax'))\n",
    "\n"
   ]
  },
  {
   "cell_type": "code",
   "execution_count": 38,
   "metadata": {},
   "outputs": [
    {
     "name": "stdout",
     "output_type": "stream",
     "text": [
      "Model: \"sequential_4\"\n",
      "_________________________________________________________________\n",
      "Layer (type)                 Output Shape              Param #   \n",
      "=================================================================\n",
      "conv2d_96 (Conv2D)           (None, 64, 64, 32)        896       \n",
      "_________________________________________________________________\n",
      "max_pooling2d_6 (MaxPooling2 (None, 32, 32, 32)        0         \n",
      "_________________________________________________________________\n",
      "conv2d_97 (Conv2D)           (None, 32, 32, 16)        4624      \n",
      "_________________________________________________________________\n",
      "max_pooling2d_7 (MaxPooling2 (None, 16, 16, 16)        0         \n",
      "_________________________________________________________________\n",
      "flatten_4 (Flatten)          (None, 4096)              0         \n",
      "_________________________________________________________________\n",
      "dense_6 (Dense)              (None, 512)               2097664   \n",
      "_________________________________________________________________\n",
      "dense_7 (Dense)              (None, 256)               131328    \n",
      "_________________________________________________________________\n",
      "dense_8 (Dense)              (None, 7)                 1799      \n",
      "=================================================================\n",
      "Total params: 2,236,311\n",
      "Trainable params: 2,236,311\n",
      "Non-trainable params: 0\n",
      "_________________________________________________________________\n"
     ]
    }
   ],
   "source": [
    "model_cnn.summary()"
   ]
  },
  {
   "cell_type": "code",
   "execution_count": 41,
   "metadata": {},
   "outputs": [],
   "source": [
    "#Compile\n",
    "\n",
    "model_cnn.compile(optimizer='adam',\n",
    "              loss='sparse_categorical_crossentropy',\n",
    "              metrics=['accuracy'])\n",
    "#The error arose because 'categorical_crossentropy' works on one-hot encoded target, \n",
    "#while 'sparse_categorical_crossentropy' works on integer target."
   ]
  },
  {
   "cell_type": "code",
   "execution_count": 43,
   "metadata": {},
   "outputs": [
    {
     "name": "stdout",
     "output_type": "stream",
     "text": [
      "Epoch 1/20\n",
      "167/167 [==============================] - 145s 868ms/step - loss: 1.5528 - accuracy: 0.3578 - val_loss: 2.3484 - val_accuracy: 0.2090\n",
      "Epoch 2/20\n",
      "167/167 [==============================] - 68s 407ms/step - loss: 1.3359 - accuracy: 0.4762 - val_loss: 2.4652 - val_accuracy: 0.2316\n",
      "Epoch 3/20\n",
      "167/167 [==============================] - 69s 411ms/step - loss: 1.1651 - accuracy: 0.5443 - val_loss: 2.9683 - val_accuracy: 0.2229\n",
      "Epoch 4/20\n",
      "167/167 [==============================] - 68s 406ms/step - loss: 0.9757 - accuracy: 0.6260 - val_loss: 3.6569 - val_accuracy: 0.2274\n",
      "Epoch 5/20\n",
      "167/167 [==============================] - 68s 407ms/step - loss: 0.7405 - accuracy: 0.7267 - val_loss: 4.7098 - val_accuracy: 0.2267\n",
      "Epoch 6/20\n",
      "167/167 [==============================] - 68s 405ms/step - loss: 0.4842 - accuracy: 0.8256 - val_loss: 6.1230 - val_accuracy: 0.2188\n",
      "Epoch 7/20\n",
      "167/167 [==============================] - 68s 405ms/step - loss: 0.2940 - accuracy: 0.9019 - val_loss: 8.1054 - val_accuracy: 0.2353\n",
      "Epoch 8/20\n",
      "167/167 [==============================] - 67s 404ms/step - loss: 0.1864 - accuracy: 0.9478 - val_loss: 9.7761 - val_accuracy: 0.2331\n",
      "Epoch 9/20\n",
      "167/167 [==============================] - 69s 411ms/step - loss: 0.1305 - accuracy: 0.9618 - val_loss: 10.9371 - val_accuracy: 0.2365\n",
      "Epoch 10/20\n",
      "167/167 [==============================] - 68s 405ms/step - loss: 0.0856 - accuracy: 0.9813 - val_loss: 11.5935 - val_accuracy: 0.2365\n",
      "Epoch 11/20\n",
      "167/167 [==============================] - 68s 404ms/step - loss: 0.0658 - accuracy: 0.9819 - val_loss: 11.0595 - val_accuracy: 0.2380\n",
      "Epoch 12/20\n",
      "167/167 [==============================] - 68s 405ms/step - loss: 0.0583 - accuracy: 0.9830 - val_loss: 12.2619 - val_accuracy: 0.2327\n",
      "Epoch 13/20\n",
      "167/167 [==============================] - 69s 414ms/step - loss: 0.0781 - accuracy: 0.9765 - val_loss: 12.9114 - val_accuracy: 0.2312\n",
      "Epoch 14/20\n",
      "167/167 [==============================] - 69s 411ms/step - loss: 0.0656 - accuracy: 0.9784 - val_loss: 13.8554 - val_accuracy: 0.2365\n",
      "Epoch 15/20\n",
      "167/167 [==============================] - 70s 418ms/step - loss: 0.0567 - accuracy: 0.9802 - val_loss: 12.3509 - val_accuracy: 0.2316\n",
      "Epoch 16/20\n",
      "167/167 [==============================] - 69s 413ms/step - loss: 0.0650 - accuracy: 0.9778 - val_loss: 12.8956 - val_accuracy: 0.2380\n",
      "Epoch 17/20\n",
      "167/167 [==============================] - 69s 411ms/step - loss: 0.0784 - accuracy: 0.9718 - val_loss: 13.1550 - val_accuracy: 0.2346\n",
      "Epoch 18/20\n",
      "167/167 [==============================] - 69s 415ms/step - loss: 0.0681 - accuracy: 0.9735 - val_loss: 14.1666 - val_accuracy: 0.2410\n",
      "Epoch 19/20\n",
      "167/167 [==============================] - 69s 411ms/step - loss: 0.0768 - accuracy: 0.9739 - val_loss: 13.5428 - val_accuracy: 0.2361\n",
      "Epoch 20/20\n",
      "167/167 [==============================] - 68s 405ms/step - loss: 0.0429 - accuracy: 0.9815 - val_loss: 14.6789 - val_accuracy: 0.2346\n"
     ]
    }
   ],
   "source": [
    "#Fit\n",
    "history = model_cnn.fit(x = trainImageData,\n",
    "                    validation_data=validationImageData,\n",
    "                    epochs = 20,\n",
    "                    steps_per_epoch= len(trainImageData.filenames)/trainImageData.batch_size, #No_Of_Images/batch_size)\n",
    "                    validation_steps =len(validationImageData.filenames)/validationImageData.batch_size )"
   ]
  },
  {
   "cell_type": "code",
   "execution_count": null,
   "metadata": {},
   "outputs": [],
   "source": []
  },
  {
   "cell_type": "code",
   "execution_count": 55,
   "metadata": {},
   "outputs": [
    {
     "name": "stdout",
     "output_type": "stream",
     "text": [
      "{'Gasoline Can': 0, 'Hammer': 1, 'Pliers': 2, 'Rope': 3, 'Screw Driver': 4, 'Tool box': 5, 'Wrench': 6}\n"
     ]
    },
    {
     "data": {
      "text/plain": [
       "array([2], dtype=int64)"
      ]
     },
     "execution_count": 55,
     "metadata": {},
     "output_type": "execute_result"
    },
    {
     "data": {
      "image/png": "[encoded data removed]",
      "text/plain": [
       "<Figure size 432x288 with 1 Axes>"
      ]
     },
     "metadata": {
      "needs_background": "light"
     },
     "output_type": "display_data"
    }
   ],
   "source": [
    "#Step1: Load the Image and Ensure the size of image is equal to the image size used during training of the model.\n",
    "\n",
    "img = tf.keras.preprocessing.image.load_img('test_data/test_data/000384.jpg' , target_size=(64,64))\n",
    "\n",
    "import matplotlib.pyplot as plt\n",
    "%matplotlib inline\n",
    "\n",
    "plt.imshow(img)\n",
    "\n",
    "imgArray = tf.keras.preprocessing.image.img_to_array(img)\n",
    "\n",
    "imgArray.shape\n",
    "\n",
    "# Step3: Making Image Array compatible with Training Model \n",
    "import numpy as np\n",
    "\n",
    "compatibleArray = np.expand_dims(imgArray, axis=0)\n",
    "\n",
    "compatibleArray.shape\n",
    "\n",
    "print(trainImageData.class_indices)\n",
    "\n",
    "\n",
    "model_cnn.predict_classes(compatibleArray)x"
   ]
  },
  {
   "cell_type": "code",
   "execution_count": 58,
   "metadata": {},
   "outputs": [
    {
     "name": "stdout",
     "output_type": "stream",
     "text": [
      "{'Gasoline Can': 0, 'Hammer': 1, 'Pliers': 2, 'Rope': 3, 'Screw Driver': 4, 'Tool box': 5, 'Wrench': 6}\n"
     ]
    },
    {
     "data": {
      "text/plain": [
       "array([0], dtype=int64)"
      ]
     },
     "execution_count": 58,
     "metadata": {},
     "output_type": "execute_result"
    },
    {
     "data": {
      "image/png": "[encoded data removed]",
      "text/plain": [
       "<Figure size 432x288 with 1 Axes>"
      ]
     },
     "metadata": {
      "needs_background": "light"
     },
     "output_type": "display_data"
    }
   ],
   "source": [
    "#Step1: Load the Image and Ensure the size of image is equal to the image size used during training of the model.\n",
    "\n",
    "img = tf.keras.preprocessing.image.load_img('test_data/gasoline.jpg' , target_size=(64,64))\n",
    "\n",
    "import matplotlib.pyplot as plt\n",
    "%matplotlib inline\n",
    "\n",
    "plt.imshow(img)\n",
    "\n",
    "imgArray = tf.keras.preprocessing.image.img_to_array(img)\n",
    "\n",
    "imgArray.shape\n",
    "\n",
    "# Step3: Making Image Array compatible with Training Model \n",
    "import numpy as np\n",
    "\n",
    "compatibleArray = np.expand_dims(imgArray, axis=0)\n",
    "\n",
    "compatibleArray.shape\n",
    "\n",
    "print(trainImageData.class_indices)\n",
    "\n",
    "\n",
    "model_cnn.predict_classes(compatibleArray)"
   ]
  },
  {
   "cell_type": "code",
   "execution_count": 59,
   "metadata": {},
   "outputs": [
    {
     "name": "stdout",
     "output_type": "stream",
     "text": [
      "{'Gasoline Can': 0, 'Hammer': 1, 'Pliers': 2, 'Rope': 3, 'Screw Driver': 4, 'Tool box': 5, 'Wrench': 6}\n"
     ]
    },
    {
     "data": {
      "text/plain": [
       "array([4], dtype=int64)"
      ]
     },
     "execution_count": 59,
     "metadata": {},
     "output_type": "execute_result"
    },
    {
     "data": {
      "image/png": "[encoded data removed]",
      "text/plain": [
       "<Figure size 432x288 with 1 Axes>"
      ]
     },
     "metadata": {
      "needs_background": "light"
     },
     "output_type": "display_data"
    }
   ],
   "source": [
    "#Step1: Load the Image and Ensure the size of image is equal to the image size used during training of the model.\n",
    "\n",
    "img = tf.keras.preprocessing.image.load_img('test_data/screw.jpg' , target_size=(64,64))\n",
    "\n",
    "import matplotlib.pyplot as plt\n",
    "%matplotlib inline\n",
    "\n",
    "plt.imshow(img)\n",
    "\n",
    "imgArray = tf.keras.preprocessing.image.img_to_array(img)\n",
    "\n",
    "imgArray.shape\n",
    "\n",
    "# Step3: Making Image Array compatible with Training Model \n",
    "import numpy as np\n",
    "\n",
    "compatibleArray = np.expand_dims(imgArray, axis=0)\n",
    "\n",
    "compatibleArray.shape\n",
    "\n",
    "print(trainImageData.class_indices)\n",
    "\n",
    "\n",
    "model_cnn.predict_classes(compatibleArray)"
   ]
  },
  {
   "cell_type": "code",
   "execution_count": null,
   "metadata": {},
   "outputs": [],
   "source": []
  },
  {
   "cell_type": "code",
   "execution_count": 61,
   "metadata": {},
   "outputs": [
    {
     "name": "stdout",
     "output_type": "stream",
     "text": [
      "INFO:tensorflow:Assets written to: Model/assets\n"
     ]
    }
   ],
   "source": [
    "model_cnn.save('Model/')"
   ]
  },
  {
   "cell_type": "code",
   "execution_count": 62,
   "metadata": {},
   "outputs": [
    {
     "name": "stdout",
     "output_type": "stream",
     "text": [
      "INFO:tensorflow:Assets written to: Model Transfer/assets\n"
     ]
    }
   ],
   "source": [
    "model.save('Model Transfer/')"
   ]
  },
  {
   "cell_type": "code",
   "execution_count": null,
   "metadata": {},
   "outputs": [],
   "source": []
  },
  {
   "cell_type": "code",
   "execution_count": 1,
   "metadata": {},
   "outputs": [],
   "source": [
    "from tensorflow.keras.models import load_model\n",
    "\n",
    "# give the path to model directory to load the model\n",
    "loaded_model = load_model('Model/')\n",
    "\n",
    "# predict function to predict the probabilities for each class 0-9\n",
    "#loaded_model.predict(test_images[0:1])\n",
    "\n"
   ]
  },
  {
   "cell_type": "code",
   "execution_count": 5,
   "metadata": {},
   "outputs": [
    {
     "data": {
      "text/plain": [
       "(1, 64, 64, 3)"
      ]
     },
     "execution_count": 5,
     "metadata": {},
     "output_type": "execute_result"
    },
    {
     "data": {
      "image/png": "[encoded data removed]",
      "text/plain": [
       "<Figure size 432x288 with 1 Axes>"
      ]
     },
     "metadata": {
      "needs_background": "light"
     },
     "output_type": "display_data"
    }
   ],
   "source": [
    "img = tf.keras.preprocessing.image.load_img('test_data/screw.jpg' , target_size=(64,64))\n",
    "\n",
    "import matplotlib.pyplot as plt\n",
    "%matplotlib inline\n",
    "\n",
    "plt.imshow(img)\n",
    "\n",
    "imgArray = tf.keras.preprocessing.image.img_to_array(img)\n",
    "\n",
    "imgArray.shape\n",
    "\n",
    "# Step3: Making Image Array compatible with Training Model \n",
    "import numpy as np\n",
    "\n",
    "compatibleArray = np.expand_dims(imgArray, axis=0)\n",
    "\n",
    "compatibleArray.shape\n",
    "\n"
   ]
  },
  {
   "cell_type": "code",
   "execution_count": 4,
   "metadata": {},
   "outputs": [
    {
     "name": "stderr",
     "output_type": "stream",
     "text": [
      "C:\\Users\\Saransh\\anaconda3\\lib\\site-packages\\tensorflow\\python\\keras\\engine\\sequential.py:450: UserWarning: `model.predict_classes()` is deprecated and will be removed after 2021-01-01. Please use instead:* `np.argmax(model.predict(x), axis=-1)`,   if your model does multi-class classification   (e.g. if it uses a `softmax` last-layer activation).* `(model.predict(x) > 0.5).astype(\"int32\")`,   if your model does binary classification   (e.g. if it uses a `sigmoid` last-layer activation).\n",
      "  warnings.warn('`model.predict_classes()` is deprecated and '\n"
     ]
    },
    {
     "data": {
      "text/plain": [
       "array([4], dtype=int64)"
      ]
     },
     "execution_count": 4,
     "metadata": {},
     "output_type": "execute_result"
    }
   ],
   "source": [
    "# predict_classes to get the class with highest probability \n",
    "#print(trainImageData.class_indices)\n",
    "loaded_model.predict_classes(compatibleArray)"
   ]
  },
  {
   "cell_type": "code",
   "execution_count": null,
   "metadata": {},
   "outputs": [],
   "source": []
  }
 ],
 "metadata": {
  "kernelspec": {
   "display_name": "Python 3",
   "language": "python",
   "name": "python3"
  },
  "language_info": {
   "codemirror_mode": {
    "name": "ipython",
    "version": 3
   },
   "file_extension": ".py",
   "mimetype": "text/x-python",
   "name": "python",
   "nbconvert_exporter": "python",
   "pygments_lexer": "ipython3",
   "version": "3.8.3"
  }
 },
 "nbformat": 4,
 "nbformat_minor": 4
}
